{
 "cells": [
  {
   "cell_type": "code",
   "execution_count": 1,
   "id": "64deaa41",
   "metadata": {},
   "outputs": [
    {
     "data": {
      "application/vnd.jupyter.widget-view+json": {
       "model_id": "65be9a30acfb432591648e76a2f89944",
       "version_major": 2,
       "version_minor": 0
      },
      "text/plain": [
       "InteractiveFigure(children=(HBar(), HBar(children=(VBar(children=(Toolbar(children=(ButtonTool(icon='home', la…"
      ]
     },
     "execution_count": 1,
     "metadata": {},
     "output_type": "execute_result"
    }
   ],
   "source": [
    "%matplotlib widget\n",
    "from easydynamics.Experiment  import Experiment\n",
    "import plopp as pp\n",
    "\n",
    "vanadium_data=Experiment.load_example_vanadium_data()\n",
    "\n",
    "vanadium_data.transpose().plot()"
   ]
  },
  {
   "cell_type": "code",
   "execution_count": 2,
   "id": "089b77ab",
   "metadata": {},
   "outputs": [
    {
     "data": {
      "application/vnd.jupyter.widget-view+json": {
       "model_id": "dec0ba94c5274870916110d2fb12e194",
       "version_major": 2,
       "version_minor": 0
      },
      "text/plain": [
       "InteractiveFigure(children=(HBar(), HBar(children=(VBar(children=(Toolbar(children=(ButtonTool(icon='home', la…"
      ]
     },
     "execution_count": 2,
     "metadata": {},
     "output_type": "execute_result"
    }
   ],
   "source": [
    "vanadium_data=Experiment.load_example_vanadium_data_1d()\n",
    "\n",
    "vanadium_data.plot()\n"
   ]
  }
 ],
 "metadata": {
  "kernelspec": {
   "display_name": "EasyQENSDev",
   "language": "python",
   "name": "python3"
  },
  "language_info": {
   "codemirror_mode": {
    "name": "ipython",
    "version": 3
   },
   "file_extension": ".py",
   "mimetype": "text/x-python",
   "name": "python",
   "nbconvert_exporter": "python",
   "pygments_lexer": "ipython3",
   "version": "3.12.9"
  }
 },
 "nbformat": 4,
 "nbformat_minor": 5
}
