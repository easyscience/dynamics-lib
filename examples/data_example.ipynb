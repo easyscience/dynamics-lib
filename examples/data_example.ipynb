{
 "cells": [
  {
   "cell_type": "code",
   "execution_count": 1,
   "id": "64deaa41",
   "metadata": {},
   "outputs": [
    {
     "data": {
      "application/vnd.jupyter.widget-view+json": {
       "model_id": "65be9a30acfb432591648e76a2f89944",
       "version_major": 2,
       "version_minor": 0
      },
      "text/plain": [
       "InteractiveFigure(children=(HBar(), HBar(children=(VBar(children=(Toolbar(children=(ButtonTool(icon='home', la…"
      ]
     },
     "execution_count": 1,
     "metadata": {},
     "output_type": "execute_result"
    }
   ],
   "source": [
    "%matplotlib widget\n",
    "from easydynamics.Experiment  import Experiment\n",
    "import plopp as pp\n",
    "\n",
    "vanadium_data=Experiment.load_example_vanadium_data()\n",
    "\n",
    "vanadium_data.transpose().plot()"
   ]
  },
  {
   "cell_type": "code",
   "execution_count": null,
   "id": "089b77ab",
   "metadata": {},
   "outputs": [
    {
     "ename": "AttributeError",
     "evalue": "'numpy.ndarray' object has no attribute 'values'",
     "output_type": "error",
     "traceback": [
      "\u001b[31m---------------------------------------------------------------------------\u001b[39m",
      "\u001b[31mAttributeError\u001b[39m                            Traceback (most recent call last)",
      "\u001b[36mCell\u001b[39m\u001b[36m \u001b[39m\u001b[32mIn[6]\u001b[39m\u001b[32m, line 7\u001b[39m\n\u001b[32m      5\u001b[39m vanadium_data.values\n\u001b[32m      6\u001b[39m vanadium_data.coords[\u001b[33m'\u001b[39m\u001b[33menergy\u001b[39m\u001b[33m'\u001b[39m].values\n\u001b[32m----> \u001b[39m\u001b[32m7\u001b[39m \u001b[43mvanadium_data\u001b[49m\u001b[43m.\u001b[49m\u001b[43mvariances\u001b[49m\u001b[43m.\u001b[49m\u001b[43mvalues\u001b[49m\n",
      "\u001b[31mAttributeError\u001b[39m: 'numpy.ndarray' object has no attribute 'values'"
     ]
    }
   ],
   "source": [
    "vanadium_data=Experiment.load_example_vanadium_data_1d()\n",
    "\n",
    "vanadium_data.plot()\n",
    "\n",
    "vanadium_data.values\n",
    "vanadium_data.coords['energy'].values\n",
    "vanadium_data.variances."
   ]
  }
 ],
 "metadata": {
  "kernelspec": {
   "display_name": "EasyQENSDev",
   "language": "python",
   "name": "python3"
  },
  "language_info": {
   "codemirror_mode": {
    "name": "ipython",
    "version": 3
   },
   "file_extension": ".py",
   "mimetype": "text/x-python",
   "name": "python",
   "nbconvert_exporter": "python",
   "pygments_lexer": "ipython3",
   "version": "3.12.9"
  }
 },
 "nbformat": 4,
 "nbformat_minor": 5
}
