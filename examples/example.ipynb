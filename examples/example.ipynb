{
 "cells": [
  {
   "cell_type": "code",
   "execution_count": null,
   "id": "64deaa41",
   "metadata": {},
   "outputs": [
    {
     "ename": "UnitError",
     "evalue": "Numbers can only be subtracted from dimensionless values",
     "output_type": "error",
     "traceback": [
      "\u001b[31m---------------------------------------------------------------------------\u001b[39m",
      "\u001b[31mUnitError\u001b[39m                                 Traceback (most recent call last)",
      "\u001b[36mCell\u001b[39m\u001b[36m \u001b[39m\u001b[32mIn[2]\u001b[39m\u001b[32m, line 24\u001b[39m\n\u001b[32m     19\u001b[39m Sample.add_component(Background)\n\u001b[32m     23\u001b[39m x=np.linspace(-\u001b[32m2\u001b[39m, \u001b[32m2\u001b[39m, \u001b[32m100\u001b[39m)\n\u001b[32m---> \u001b[39m\u001b[32m24\u001b[39m y=\u001b[43mSample\u001b[49m\u001b[43m.\u001b[49m\u001b[43mevaluate\u001b[49m\u001b[43m(\u001b[49m\u001b[43mx\u001b[49m\u001b[43m)\u001b[49m\n\u001b[32m     25\u001b[39m plt.plot(x, y, label=\u001b[33m'\u001b[39m\u001b[33mSum of components\u001b[39m\u001b[33m'\u001b[39m)\n\u001b[32m     26\u001b[39m plt.plot(x, Background.evaluate(x), label=\u001b[33m'\u001b[39m\u001b[33mBackground Component\u001b[39m\u001b[33m'\u001b[39m)\n",
      "\u001b[36mFile \u001b[39m\u001b[32m~\\Documents\\easyScience\\EasyQENSLib\\src\\easydynamics\\sample\\SampleModel.py:35\u001b[39m, in \u001b[36mSampleModel.evaluate\u001b[39m\u001b[34m(self, x)\u001b[39m\n\u001b[32m     25\u001b[39m \u001b[38;5;28;01mdef\u001b[39;00m\u001b[38;5;250m \u001b[39m\u001b[34mevaluate\u001b[39m(\u001b[38;5;28mself\u001b[39m, x: np.ndarray) -> np.ndarray:\n\u001b[32m     26\u001b[39m \u001b[38;5;250m    \u001b[39m\u001b[33;03m\"\"\"\u001b[39;00m\n\u001b[32m     27\u001b[39m \u001b[33;03m    Evaluate the full model by summing all components.\u001b[39;00m\n\u001b[32m     28\u001b[39m \n\u001b[32m   (...)\u001b[39m\u001b[32m     33\u001b[39m \u001b[33;03m        np.ndarray: Evaluated model at input x.\u001b[39;00m\n\u001b[32m     34\u001b[39m \u001b[33;03m    \"\"\"\u001b[39;00m\n\u001b[32m---> \u001b[39m\u001b[32m35\u001b[39m     \u001b[38;5;28;01mreturn\u001b[39;00m \u001b[38;5;28;43msum\u001b[39;49m\u001b[43m(\u001b[49m\u001b[43mcomp\u001b[49m\u001b[43m.\u001b[49m\u001b[43mevaluate\u001b[49m\u001b[43m(\u001b[49m\u001b[43mx\u001b[49m\u001b[43m)\u001b[49m\u001b[43m \u001b[49m\u001b[38;5;28;43;01mfor\u001b[39;49;00m\u001b[43m \u001b[49m\u001b[43mcomp\u001b[49m\u001b[43m \u001b[49m\u001b[38;5;129;43;01min\u001b[39;49;00m\u001b[43m \u001b[49m\u001b[38;5;28;43mself\u001b[39;49m\u001b[43m.\u001b[49m\u001b[43mcomponents\u001b[49m\u001b[43m)\u001b[49m\n",
      "\u001b[36mFile \u001b[39m\u001b[32m~\\Documents\\easyScience\\EasyQENSLib\\src\\easydynamics\\sample\\SampleModel.py:35\u001b[39m, in \u001b[36m<genexpr>\u001b[39m\u001b[34m(.0)\u001b[39m\n\u001b[32m     25\u001b[39m \u001b[38;5;28;01mdef\u001b[39;00m\u001b[38;5;250m \u001b[39m\u001b[34mevaluate\u001b[39m(\u001b[38;5;28mself\u001b[39m, x: np.ndarray) -> np.ndarray:\n\u001b[32m     26\u001b[39m \u001b[38;5;250m    \u001b[39m\u001b[33;03m\"\"\"\u001b[39;00m\n\u001b[32m     27\u001b[39m \u001b[33;03m    Evaluate the full model by summing all components.\u001b[39;00m\n\u001b[32m     28\u001b[39m \n\u001b[32m   (...)\u001b[39m\u001b[32m     33\u001b[39m \u001b[33;03m        np.ndarray: Evaluated model at input x.\u001b[39;00m\n\u001b[32m     34\u001b[39m \u001b[33;03m    \"\"\"\u001b[39;00m\n\u001b[32m---> \u001b[39m\u001b[32m35\u001b[39m     \u001b[38;5;28;01mreturn\u001b[39;00m \u001b[38;5;28msum\u001b[39m(\u001b[43mcomp\u001b[49m\u001b[43m.\u001b[49m\u001b[43mevaluate\u001b[49m\u001b[43m(\u001b[49m\u001b[43mx\u001b[49m\u001b[43m)\u001b[49m \u001b[38;5;28;01mfor\u001b[39;00m comp \u001b[38;5;129;01min\u001b[39;00m \u001b[38;5;28mself\u001b[39m.components)\n",
      "\u001b[36mFile \u001b[39m\u001b[32m~\\Documents\\easyScience\\EasyQENSLib\\src\\easydynamics\\sample\\components.py:89\u001b[39m, in \u001b[36mLorentzianComponent.evaluate\u001b[39m\u001b[34m(self, x)\u001b[39m\n\u001b[32m     87\u001b[39m \u001b[38;5;28;01mdef\u001b[39;00m\u001b[38;5;250m \u001b[39m\u001b[34mevaluate\u001b[39m(\u001b[38;5;28mself\u001b[39m, x):\n\u001b[32m     88\u001b[39m         \u001b[38;5;66;03m#TODO: Handle units properly\u001b[39;00m\n\u001b[32m---> \u001b[39m\u001b[32m89\u001b[39m     \u001b[38;5;28;01mreturn\u001b[39;00m \u001b[38;5;28mself\u001b[39m.amplitude * (\u001b[38;5;28mself\u001b[39m.width**\u001b[32m2\u001b[39m / ((\u001b[43mx\u001b[49m\u001b[43m \u001b[49m\u001b[43m-\u001b[49m\u001b[43m \u001b[49m\u001b[38;5;28;43mself\u001b[39;49m\u001b[43m.\u001b[49m\u001b[43mcenter\u001b[49m)**\u001b[32m2\u001b[39m + \u001b[38;5;28mself\u001b[39m.width**\u001b[32m2\u001b[39m))\n",
      "\u001b[36mFile \u001b[39m\u001b[32mc:\\Users\\henrikjacobsen3\\.conda\\envs\\EasyQENSDev\\Lib\\site-packages\\easyscience\\Objects\\variable\\parameter.py:519\u001b[39m, in \u001b[36mParameter.__rsub__\u001b[39m\u001b[34m(self, other)\u001b[39m\n\u001b[32m    517\u001b[39m \u001b[38;5;28;01mif\u001b[39;00m \u001b[38;5;28misinstance\u001b[39m(other, numbers.Number):\n\u001b[32m    518\u001b[39m     \u001b[38;5;28;01mif\u001b[39;00m \u001b[38;5;28mself\u001b[39m.unit != \u001b[33m'\u001b[39m\u001b[33mdimensionless\u001b[39m\u001b[33m'\u001b[39m:\n\u001b[32m--> \u001b[39m\u001b[32m519\u001b[39m         \u001b[38;5;28;01mraise\u001b[39;00m UnitError(\u001b[33m'\u001b[39m\u001b[33mNumbers can only be subtracted from dimensionless values\u001b[39m\u001b[33m'\u001b[39m)\n\u001b[32m    520\u001b[39m     new_full_value = other - \u001b[38;5;28mself\u001b[39m.full_value\n\u001b[32m    521\u001b[39m     min_value = other - \u001b[38;5;28mself\u001b[39m.max\n",
      "\u001b[31mUnitError\u001b[39m: Numbers can only be subtracted from dimensionless values"
     ]
    }
   ],
   "source": [
    "import numpy as np\n",
    "\n",
    "from easydynamics.sample import GaussianComponent\n",
    "from easydynamics.sample import LorentzianComponent\n",
    "from easydynamics.sample import DHOComponent\n",
    "from easydynamics.sample import PolynomialComponent\n",
    "from easydynamics.sample import SampleModel\n",
    "\n",
    "import matplotlib.pyplot as plt\n",
    "\n",
    "Gaussian= GaussianComponent(center=0,width=0.5,amplitude=1)\n",
    "Lorentzian=LorentzianComponent(center=0, width=0.5, amplitude=1)\n",
    "DHO=DHOComponent(center=1, width=0.1, amplitude=1)\n",
    "Background=PolynomialComponent(coefficients=[0.1, 0.1])\n",
    "\n",
    "Sample= SampleModel()\n",
    "Sample.add_component(Gaussian)\n",
    "Sample.add_component(Lorentzian)\n",
    "Sample.add_component(Background)\n",
    "Sample.add_component(DHO)\n",
    "\n",
    "\n",
    "\n",
    "x=np.linspace(-2, 2, 100)\n",
    "y=Sample.evaluate(x)\n",
    "plt.plot(x, y, label='Sum of components')\n",
    "plt.plot(x, Background.evaluate(x), label='Background Component')\n",
    "plt.plot(x, Gaussian.evaluate(x), label='Gaussian Component')\n",
    "plt.plot(x, Lorentzian.evaluate(x), label='Lorentzian Component')\n",
    "plt.legend()\n",
    "plt.xlabel('x')\n",
    "plt.ylabel('y')\n",
    "\n",
    "\n",
    "Gaussian.amplitude\n",
    "Gaussian.center\n"
   ]
  },
  {
   "cell_type": "code",
   "execution_count": null,
   "id": "5c5b3e0a",
   "metadata": {},
   "outputs": [],
   "source": [
    "\n",
    "\n"
   ]
  }
 ],
 "metadata": {
  "kernelspec": {
   "display_name": "EasyQENSDev",
   "language": "python",
   "name": "python3"
  },
  "language_info": {
   "codemirror_mode": {
    "name": "ipython",
    "version": 3
   },
   "file_extension": ".py",
   "mimetype": "text/x-python",
   "name": "python",
   "nbconvert_exporter": "python",
   "pygments_lexer": "ipython3",
   "version": "3.12.9"
  }
 },
 "nbformat": 4,
 "nbformat_minor": 5
}
