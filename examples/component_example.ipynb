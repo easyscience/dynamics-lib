{
 "cells": [
  {
   "cell_type": "code",
   "execution_count": null,
   "id": "64deaa41",
   "metadata": {},
   "outputs": [],
   "source": [
    "import numpy as np\n",
    "\n",
    "from easydynamics.sample import GaussianComponent\n",
    "from easydynamics.sample import LorentzianComponent\n",
    "from easydynamics.sample import VoigtComponent\n",
    "from easydynamics.sample import DHOComponent\n",
    "from easydynamics.sample import PolynomialComponent\n",
    "from easydynamics.sample import DeltaFunctionComponent\n",
    "from easydynamics.sample import SampleModel\n",
    "\n",
    "from easydynamics.resolution import ResolutionHandler\n",
    "\n",
    "\n",
    "import matplotlib.pyplot as plt\n"
   ]
  },
  {
   "cell_type": "code",
   "execution_count": null,
   "id": "784d9e82",
   "metadata": {},
   "outputs": [],
   "source": [
    "Gaussian=GaussianComponent(name='Gaussian',center=0,width=0.5,area=1)\n",
    "Gaussian"
   ]
  },
  {
   "cell_type": "code",
   "execution_count": null,
   "id": "436a5840",
   "metadata": {},
   "outputs": [],
   "source": [
    "\n",
    "Sample= SampleModel(name='MySampleModel')\n",
    "Sample.add_component(GaussianComponent(name='Gaussian',center=0.5,width=0.5,area=1))\n",
    "Sample.add_component(LorentzianComponent(name='Lorentzian',center=0, width=0.5, area=1))\n",
    "Sample.add_component(PolynomialComponent(name='BG',coefficients=[0.1, 0.1]))\n",
    "Sample.add_component(DHOComponent(name='DHO',center=1, width=0.3, area=1.2))\n",
    "\n",
    "x=np.linspace(-2, 2, 100)\n",
    "y=Sample.evaluate(x)\n",
    "plt.plot(x, y, label='Sum of components')\n",
    "plt.plot(x, Sample.evaluate_component('BG',x), label='Background')\n",
    "plt.plot(x, Sample.evaluate_component('Gaussian',x), label='Gaussian')\n",
    "plt.plot(x, Sample.evaluate_component('Lorentzian',x), label='Lorentzian')\n",
    "plt.plot(x, Sample.evaluate_component('DHO',x), label='DHO')\n",
    "plt.legend()\n",
    "plt.xlabel('x')\n",
    "plt.ylabel('y')\n"
   ]
  },
  {
   "cell_type": "code",
   "execution_count": null,
   "id": "2f57228c",
   "metadata": {},
   "outputs": [],
   "source": [
    "# The area under the DHO curve is indeed equal to the area parameter.\n",
    "xx=np.linspace(-10, 10, 10000)\n",
    "yy=Sample.evaluate_component('DHO',xx)\n",
    "area= np.trapezoid(yy, xx)\n",
    "print(f\"Area under DHO curve: {area:.4f}\")"
   ]
  },
  {
   "cell_type": "code",
   "execution_count": null,
   "id": "1b75557f",
   "metadata": {},
   "outputs": [],
   "source": [
    "# Check what happens when the center is not given and an offset is applied\n",
    "\n",
    "Sample= SampleModel(name='MySampleModel')\n",
    "Sample.add_component(GaussianComponent(name='Gaussian',width=0.5,area=1))\n",
    "Sample.add_component(LorentzianComponent(name='Lorentzian', width=0.5, area=1))\n",
    "Sample.add_component(PolynomialComponent(name='BG',coefficients=[0.1, 0.1]))\n",
    "Sample.add_component(DHOComponent(name='DHO',center=1, width=0.3, area=1.2))\n",
    "\n",
    "Sample.set_offset(-0.2)\n",
    "\n",
    "x=np.linspace(-2, 2, 100)\n",
    "y=Sample.evaluate(x)\n",
    "plt.plot(x, y, label='Sum of components')\n",
    "plt.plot(x, Sample.evaluate_component('BG',x), label='Background')\n",
    "plt.plot(x, Sample.evaluate_component('Gaussian',x), label='Gaussian')\n",
    "plt.plot(x, Sample.evaluate_component('Lorentzian',x), label='Lorentzian')\n",
    "plt.plot(x, Sample.evaluate_component('DHO',x), label='DHO')\n",
    "plt.legend()\n",
    "plt.xlabel('x')\n",
    "plt.ylabel('y')\n",
    "\n",
    "\n",
    "\n",
    "Gaussian.center\n"
   ]
  },
  {
   "cell_type": "code",
   "execution_count": null,
   "id": "5c5b3e0a",
   "metadata": {},
   "outputs": [],
   "source": [
    "# Try out the resolution handler\n",
    "\n",
    "Gaussian= GaussianComponent(center=0,width=0.5,area=2)\n",
    "Lorentzian=LorentzianComponent(center=0, width=0.5, area=3)\n",
    "\n",
    "Sample= SampleModel('MyModel')\n",
    "Sample.add_component(Lorentzian)\n",
    "\n",
    "Resolution=SampleModel('Resolution')\n",
    "Resolution.add_component(Gaussian)\n",
    "\n",
    "Voigt=VoigtComponent(center=0, Gwidth=0.5, Lwidth=0.5, area=6)\n",
    "\n",
    "\n",
    "x=np.linspace(-5, 5, 1000)\n",
    "\n",
    "MyResolutionHandler=ResolutionHandler()\n",
    "Convolution=MyResolutionHandler.convolve(x, Sample, Resolution)\n",
    "NumericalConvolution=MyResolutionHandler.numerical_convolve(x, Sample, Resolution)\n",
    "\n",
    "\n",
    "plt.plot(x, Voigt.evaluate(x), label='Voigt')\n",
    "plt.plot(x, Convolution, label='Convolution using ResolutionHandler',linestyle='--')\n",
    "plt.plot(x, NumericalConvolution, label='Numerical Convolution', linestyle=':')\n",
    "plt.legend()\n",
    "plt.xlabel('x')\n",
    "plt.ylabel('y')\n"
   ]
  },
  {
   "cell_type": "code",
   "execution_count": null,
   "id": "df883034",
   "metadata": {},
   "outputs": [],
   "source": [
    "Sample.components.items()"
   ]
  },
  {
   "cell_type": "code",
   "execution_count": null,
   "id": "5872382e",
   "metadata": {},
   "outputs": [],
   "source": [
    "Convolution"
   ]
  },
  {
   "cell_type": "code",
   "execution_count": null,
   "id": "5e3efad9",
   "metadata": {},
   "outputs": [],
   "source": [
    "from easydynamics.sample.components import DetailedBalance\n",
    "\n",
    "# Example of DetailedBalance\n",
    "\n",
    "x=np.linspace(-2, 2, 1000)\n",
    "Lorentzian=LorentzianComponent(center=0, width=0.1, area=1)\n",
    "\n",
    "DetailedBalanceT1=DetailedBalance(x,temperature_K=0.0)\n",
    "plt.plot(x,Lorentzian.evaluate(x)*DetailedBalanceT1, label='T=0')\n",
    "\n",
    "# DetailedBalanceT2=DetailedBalance(x,temperature_K=0.1)\n",
    "# plt.plot(x,Lorentzian.evaluate(x)*DetailedBalanceT2, label='T=0.1')\n",
    "\n",
    "DetailedBalanceT3=DetailedBalance(x,temperature_K=1)\n",
    "plt.plot(x,Lorentzian.evaluate(x)*DetailedBalanceT3, label='T=1')\n",
    "\n",
    "DetailedBalanceT3=DetailedBalance(x,temperature_K=3)\n",
    "plt.plot(x,Lorentzian.evaluate(x)*DetailedBalanceT3, label='T=3')\n",
    "\n",
    "plt.plot(x, Lorentzian.evaluate(x), label='No DBF', linestyle='--')\n",
    "\n",
    "plt.legend()\n",
    "plt.xlabel('x')\n",
    "plt.ylabel('y')\n"
   ]
  },
  {
   "cell_type": "code",
   "execution_count": null,
   "id": "31008bc4",
   "metadata": {},
   "outputs": [],
   "source": [
    "x=np.linspace(-5, 5, 1000)\n",
    "\n",
    "DetailedBalanceT1=DetailedBalance(x,temperature_K=0.1)\n",
    "plt.plot(x,DetailedBalanceT1)"
   ]
  },
  {
   "cell_type": "code",
   "execution_count": null,
   "id": "8e12e813",
   "metadata": {},
   "outputs": [],
   "source": [
    "Gaussian= GaussianComponent(width=0.1,area=1)\n",
    "Lorentzian=LorentzianComponent(width=1, area=1)\n",
    "DeltaFunction=DeltaFunctionComponent(area=1)\n",
    "\n",
    "Sample= SampleModel('MyModel')\n",
    "Sample.add_component(Lorentzian)\n",
    "Sample.add_component(DeltaFunction)\n",
    "\n",
    "Resolution=SampleModel('MyRes')\n",
    "Resolution.add_component(Gaussian)\n",
    "MyResolutionHandler=ResolutionHandler()\n",
    "Convolution=MyResolutionHandler.numerical_convolve(x, Sample, Resolution)\n",
    "\n",
    "x=np.linspace(-5, 5, 1000)\n",
    "plt.plot(x, Convolution, label='Convolution of model and resolution', linestyle='--')\n",
    "\n",
    "plt.plot(x,Resolution.evaluate(x), label='Resolution')\n",
    "\n",
    "plt.legend()\n",
    "plt.xlabel('x')\n",
    "plt.ylabel('y')\n",
    "\n",
    "\n"
   ]
  },
  {
   "cell_type": "code",
   "execution_count": null,
   "id": "3639668e",
   "metadata": {},
   "outputs": [],
   "source": []
  }
 ],
 "metadata": {
  "kernelspec": {
   "display_name": "EasyQENSDev",
   "language": "python",
   "name": "python3"
  },
  "language_info": {
   "codemirror_mode": {
    "name": "ipython",
    "version": 3
   },
   "file_extension": ".py",
   "mimetype": "text/x-python",
   "name": "python",
   "nbconvert_exporter": "python",
   "pygments_lexer": "ipython3",
   "version": "3.12.9"
  }
 },
 "nbformat": 4,
 "nbformat_minor": 5
}
