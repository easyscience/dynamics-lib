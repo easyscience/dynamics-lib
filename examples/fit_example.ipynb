{
 "cells": [
  {
   "cell_type": "code",
   "execution_count": 4,
   "id": "64deaa41",
   "metadata": {},
   "outputs": [],
   "source": [
    "%matplotlib widget\n",
    "from easydynamics.Analysis import Analysis\n",
    "\n",
    "import numpy as np\n",
    "\n",
    "from easydynamics.sample import GaussianComponent\n",
    "from easydynamics.sample import LorentzianComponent\n",
    "from easydynamics.sample import DHOComponent\n",
    "from easydynamics.sample import PolynomialComponent\n",
    "from easydynamics.sample import SampleModel\n",
    "\n",
    "\n",
    "import matplotlib.pyplot as plt\n"
   ]
  },
  {
   "cell_type": "code",
   "execution_count": 5,
   "id": "089b77ab",
   "metadata": {},
   "outputs": [
    {
     "ename": "TypeError",
     "evalue": "Can't instantiate abstract class Analysis without an implementation for abstract methods 'calculate_theory', 'fit'",
     "output_type": "error",
     "traceback": [
      "\u001b[31m---------------------------------------------------------------------------\u001b[39m",
      "\u001b[31mTypeError\u001b[39m                                 Traceback (most recent call last)",
      "\u001b[36mCell\u001b[39m\u001b[36m \u001b[39m\u001b[32mIn[5]\u001b[39m\u001b[32m, line 1\u001b[39m\n\u001b[32m----> \u001b[39m\u001b[32m1\u001b[39m MyAnalysis = \u001b[43mAnalysis\u001b[49m\u001b[43m(\u001b[49m\u001b[43m)\u001b[49m\n\u001b[32m      8\u001b[39m Gaussian= GaussianComponent(center=\u001b[32m0\u001b[39m,width=\u001b[32m0.5\u001b[39m,amplitude=\u001b[32m1\u001b[39m)\n\u001b[32m      9\u001b[39m Lorentzian=LorentzianComponent(center=\u001b[32m0\u001b[39m, width=\u001b[32m0.5\u001b[39m, amplitude=\u001b[32m1\u001b[39m)\n",
      "\u001b[31mTypeError\u001b[39m: Can't instantiate abstract class Analysis without an implementation for abstract methods 'calculate_theory', 'fit'"
     ]
    }
   ],
   "source": [
    "\n",
    "MyAnalysis = Analysis()\n",
    "\n",
    "\n",
    "\n",
    "\n",
    "\n",
    "\n",
    "Gaussian= GaussianComponent(center=0,width=0.5,amplitude=1)\n",
    "Lorentzian=LorentzianComponent(center=0, width=0.5, amplitude=1)\n",
    "DHO=DHOComponent(center=1, width=0.3, area=1.2)\n",
    "Background=PolynomialComponent(coefficients=[0.1, 0.1])\n",
    "\n",
    "Sample= SampleModel()\n",
    "Sample.add_component(Gaussian)\n",
    "Sample.add_component(Lorentzian)\n",
    "Sample.add_component(Background)\n",
    "Sample.add_component(DHO)\n",
    "\n",
    "\n",
    "Resolution=SampleModel()\n",
    "Resolution.add_component(Gaussian)\n",
    "\n",
    "Background=SampleModel()\n",
    "Background.add_component(PolynomialComponent(coefficients=[0.1, 0.1]))\n",
    "\n",
    "MyAnalysis.set_sample_model(Sample)\n",
    "MyAnalysis.set_resolution_model(Resolution)\n",
    "MyAnalysis.set_background_model(Background)\n",
    "\n",
    "x=np.linspace(-2, 2, 100)\n",
    "y=MyAnalysis.calculate_theory(x)\n",
    "plt.figure(figsize=(10, 6))\n",
    "plt.plot(x, y, label='Theoretical Model', color='blue')\n",
    "plt.xlabel('x')\n",
    "plt.ylabel('y')\n",
    "\n",
    "\n"
   ]
  }
 ],
 "metadata": {
  "kernelspec": {
   "display_name": "EasyQENSDev",
   "language": "python",
   "name": "python3"
  },
  "language_info": {
   "codemirror_mode": {
    "name": "ipython",
    "version": 3
   },
   "file_extension": ".py",
   "mimetype": "text/x-python",
   "name": "python",
   "nbconvert_exporter": "python",
   "pygments_lexer": "ipython3",
   "version": "3.12.9"
  }
 },
 "nbformat": 4,
 "nbformat_minor": 5
}
