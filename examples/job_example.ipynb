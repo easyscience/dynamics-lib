{
 "cells": [
  {
   "cell_type": "code",
   "execution_count": 1,
   "id": "64deaa41",
   "metadata": {},
   "outputs": [],
   "source": [
    "%matplotlib widget\n",
    "from easydynamics.Analysis import Analysis\n",
    "\n",
    "import numpy as np\n",
    "\n",
    "from easydynamics.sample import GaussianComponent\n",
    "from easydynamics.sample import LorentzianComponent\n",
    "from easydynamics.sample import PolynomialComponent\n",
    "from easydynamics.sample import SampleModel\n",
    "\n",
    "from easydynamics.Experiment import Experiment\n",
    "\n",
    "import matplotlib.pyplot as plt\n",
    "\n",
    "\n",
    "from easydynamics.Job import Job\n"
   ]
  },
  {
   "cell_type": "code",
   "execution_count": 2,
   "id": "135e0f6e",
   "metadata": {},
   "outputs": [
    {
     "ename": "TypeError",
     "evalue": "Can't instantiate abstract class Job without an implementation for abstract methods 'analysis', 'calculate_theory', 'experiment', 'fit', 'theoretical_model'",
     "output_type": "error",
     "traceback": [
      "\u001b[31m---------------------------------------------------------------------------\u001b[39m",
      "\u001b[31mTypeError\u001b[39m                                 Traceback (most recent call last)",
      "\u001b[36mCell\u001b[39m\u001b[36m \u001b[39m\u001b[32mIn[2]\u001b[39m\u001b[32m, line 1\u001b[39m\n\u001b[32m----> \u001b[39m\u001b[32m1\u001b[39m MyJob= \u001b[43mJob\u001b[49m\u001b[43m(\u001b[49m\u001b[43mname\u001b[49m\u001b[43m=\u001b[49m\u001b[33;43m'\u001b[39;49m\u001b[33;43mMyJob\u001b[39;49m\u001b[33;43m'\u001b[39;49m\u001b[43m)\u001b[49m\n",
      "\u001b[31mTypeError\u001b[39m: Can't instantiate abstract class Job without an implementation for abstract methods 'analysis', 'calculate_theory', 'experiment', 'fit', 'theoretical_model'"
     ]
    }
   ],
   "source": [
    "MyJob= Job(name='MyJob')\n"
   ]
  },
  {
   "cell_type": "code",
   "execution_count": null,
   "id": "089b77ab",
   "metadata": {},
   "outputs": [],
   "source": [
    "\n",
    "MyAnalysis = Analysis(name='MyAnalysis')\n",
    "Gaussian1= GaussianComponent(width=0.5e-3,area=5e-5)\n",
    "Lorentzian=LorentzianComponent(width=2e-3, area=2e-6)\n",
    "Polynomial=PolynomialComponent(coefficients=[1e-3])\n",
    "\n",
    "Sample= SampleModel('Vanadium')\n",
    "Sample.add_component(Gaussian1)\n",
    "Sample.add_component(Lorentzian)\n",
    "\n",
    "Sample.set_offset(-0.5e-3)  # Set offset for the sample model\n",
    "\n",
    "Background=SampleModel('Background')\n",
    "Background.add_component(Polynomial)\n",
    "\n",
    "MyAnalysis.set_sample_model(Sample)\n",
    "MyAnalysis.set_background_model(Background)\n",
    "\n",
    "vanadium_data=Experiment.load_example_vanadium_data_1d()\n",
    "vanadium_data.plot()\n",
    "\n",
    "MyAnalysis.set_data(vanadium_data)\n",
    "\n"
   ]
  },
  {
   "cell_type": "code",
   "execution_count": null,
   "id": "92ba8a4f",
   "metadata": {},
   "outputs": [],
   "source": [
    "fig=MyAnalysis.plot_data_and_model()\n",
    "# fig.xlim(-0.02, 0.02)\n",
    "# fig.ylim(0, 0.07)\n",
    "\n",
    "fig.axes[0].set_xlim(-0.02, 0.02)\n",
    "fig.axes[0].set_ylim(0, 0.07)"
   ]
  },
  {
   "cell_type": "code",
   "execution_count": null,
   "id": "3a1baf3c",
   "metadata": {},
   "outputs": [],
   "source": [
    "MyAnalysis.get_parameters()\n"
   ]
  },
  {
   "cell_type": "code",
   "execution_count": null,
   "id": "5dd8ff9f",
   "metadata": {},
   "outputs": [],
   "source": [
    "\n",
    "fit_result=MyAnalysis.fit()"
   ]
  },
  {
   "cell_type": "code",
   "execution_count": null,
   "id": "a96f1cdd",
   "metadata": {},
   "outputs": [],
   "source": [
    "MyAnalysis.get_fit_parameters()\n",
    "\n",
    "# MyAnalysis._SampleModel.components[0].center.free\n"
   ]
  },
  {
   "cell_type": "code",
   "execution_count": null,
   "id": "aacad8e7",
   "metadata": {},
   "outputs": [],
   "source": [
    "fig=MyAnalysis.plot_data_and_model(plot_individual_components=True)\n",
    "# fig.xlim(-0.02, 0.02)\n",
    "# fig.ylim(0, 0.07)\n",
    "\n",
    "fig.axes[0].set_xlim(-0.02, 0.02)\n",
    "fig.axes[0].set_ylim(0, 0.07)\n"
   ]
  },
  {
   "cell_type": "code",
   "execution_count": null,
   "id": "7ff9739a",
   "metadata": {},
   "outputs": [],
   "source": [
    "Gaussian1.center\n"
   ]
  },
  {
   "cell_type": "code",
   "execution_count": null,
   "id": "3e6a92f7",
   "metadata": {},
   "outputs": [],
   "source": [
    "MyAnalysis.get_fit_parameters()"
   ]
  }
 ],
 "metadata": {
  "kernelspec": {
   "display_name": "EasyQENSDev",
   "language": "python",
   "name": "python3"
  },
  "language_info": {
   "codemirror_mode": {
    "name": "ipython",
    "version": 3
   },
   "file_extension": ".py",
   "mimetype": "text/x-python",
   "name": "python",
   "nbconvert_exporter": "python",
   "pygments_lexer": "ipython3",
   "version": "3.12.9"
  }
 },
 "nbformat": 4,
 "nbformat_minor": 5
}
