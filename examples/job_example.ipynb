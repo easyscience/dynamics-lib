{
 "cells": [
  {
   "cell_type": "code",
   "execution_count": 1,
   "id": "64deaa41",
   "metadata": {},
   "outputs": [
    {
     "ename": "ModuleNotFoundError",
     "evalue": "No module named 'easydynamics.experiment.Experiment'",
     "output_type": "error",
     "traceback": [
      "\u001b[31m---------------------------------------------------------------------------\u001b[39m",
      "\u001b[31mModuleNotFoundError\u001b[39m                       Traceback (most recent call last)",
      "\u001b[36mCell\u001b[39m\u001b[36m \u001b[39m\u001b[32mIn[1]\u001b[39m\u001b[32m, line 12\u001b[39m\n\u001b[32m      9\u001b[39m \u001b[38;5;28;01mfrom\u001b[39;00m\u001b[38;5;250m \u001b[39m\u001b[34;01measydynamics\u001b[39;00m\u001b[34;01m.\u001b[39;00m\u001b[34;01msample\u001b[39;00m\u001b[38;5;250m \u001b[39m\u001b[38;5;28;01mimport\u001b[39;00m SampleModel\n\u001b[32m     10\u001b[39m \u001b[38;5;28;01mfrom\u001b[39;00m\u001b[38;5;250m \u001b[39m\u001b[34;01measydynamics\u001b[39;00m\u001b[34;01m.\u001b[39;00m\u001b[34;01msample\u001b[39;00m\u001b[38;5;250m \u001b[39m\u001b[38;5;28;01mimport\u001b[39;00m DeltaFunctionComponent\n\u001b[32m---> \u001b[39m\u001b[32m12\u001b[39m \u001b[38;5;28;01mfrom\u001b[39;00m\u001b[38;5;250m \u001b[39m\u001b[34;01measydynamics\u001b[39;00m\u001b[34;01m.\u001b[39;00m\u001b[34;01mexperiment\u001b[39;00m\u001b[38;5;250m  \u001b[39m\u001b[38;5;28;01mimport\u001b[39;00m Experiment\n\u001b[32m     14\u001b[39m \u001b[38;5;28;01mimport\u001b[39;00m\u001b[38;5;250m \u001b[39m\u001b[34;01mmatplotlib\u001b[39;00m\u001b[34;01m.\u001b[39;00m\u001b[34;01mpyplot\u001b[39;00m\u001b[38;5;250m \u001b[39m\u001b[38;5;28;01mas\u001b[39;00m\u001b[38;5;250m \u001b[39m\u001b[34;01mplt\u001b[39;00m\n\u001b[32m     17\u001b[39m \u001b[38;5;28;01mfrom\u001b[39;00m\u001b[38;5;250m \u001b[39m\u001b[34;01measydynamics\u001b[39;00m\u001b[34;01m.\u001b[39;00m\u001b[34;01mjob\u001b[39;00m\u001b[38;5;250m \u001b[39m\u001b[38;5;28;01mimport\u001b[39;00m Job\n",
      "\u001b[36mFile \u001b[39m\u001b[32m~\\Documents\\easyScience\\EasyQENSLib\\src\\easydynamics\\experiment\\__init__.py:1\u001b[39m\n\u001b[32m----> \u001b[39m\u001b[32m1\u001b[39m \u001b[38;5;28;01mfrom\u001b[39;00m\u001b[38;5;250m \u001b[39m\u001b[34;01m.\u001b[39;00m\u001b[34;01mExperiment\u001b[39;00m\u001b[38;5;250m \u001b[39m\u001b[38;5;28;01mimport\u001b[39;00m Experiment\n\u001b[32m      2\u001b[39m \u001b[38;5;28;01mfrom\u001b[39;00m\u001b[38;5;250m \u001b[39m\u001b[34;01m.\u001b[39;00m\u001b[34;01mData\u001b[39;00m\u001b[38;5;250m \u001b[39m\u001b[38;5;28;01mimport\u001b[39;00m Data\n\u001b[32m      4\u001b[39m __all__ = [\u001b[33m'\u001b[39m\u001b[33mExperiment\u001b[39m\u001b[33m'\u001b[39m, \u001b[33m'\u001b[39m\u001b[33mData\u001b[39m\u001b[33m'\u001b[39m]\n",
      "\u001b[31mModuleNotFoundError\u001b[39m: No module named 'easydynamics.experiment.Experiment'"
     ]
    }
   ],
   "source": [
    "%matplotlib widget\n",
    "from easydynamics.analysis import Analysis\n",
    "\n",
    "import numpy as np\n",
    "\n",
    "from easydynamics.sample import GaussianComponent\n",
    "from easydynamics.sample import LorentzianComponent\n",
    "from easydynamics.sample import PolynomialComponent\n",
    "from easydynamics.sample import SampleModel\n",
    "from easydynamics.sample import DeltaFunctionComponent\n",
    "\n",
    "from easydynamics.experiment  import Experiment\n",
    "\n",
    "import matplotlib.pyplot as plt\n",
    "\n",
    "\n",
    "from easydynamics.job import Job\n",
    "from easydynamics.experiment  import Data\n"
   ]
  },
  {
   "cell_type": "code",
   "execution_count": null,
   "id": "d7e59092",
   "metadata": {},
   "outputs": [],
   "source": [
    "MyJob= Job(name='Vanadium sample')\n",
    "\n",
    "theory= SampleModel('Vanadium Model')\n",
    "theory.add_component(GaussianComponent(width=0.5e-3,area=5e-5))\n",
    "theory.add_component(LorentzianComponent(width=2e-3, area=2e-6))\n",
    "\n",
    "MyJob.set_theory(theory)\n",
    "\n",
    "experiment=Experiment('Vanadium Experiment')\n",
    "\n",
    "background=SampleModel('Vanadium Background')\n",
    "background.add_component(PolynomialComponent(coefficients=[1e-3]))\n",
    "\n",
    "experiment.set_background_model(background)\n",
    "\n",
    "experiment.set_resolution_model(None)\n",
    "\n",
    "\n",
    "data=Data('Vanadium Data')\n",
    "data.append(data.load_example_vanadium_data_1d())\n",
    "\n",
    "experiment.set_data(data)\n",
    "\n",
    "MyJob.set_experiment(experiment)\n",
    "\n",
    "\n",
    "analysis=Analysis('Vanadium Analysis')\n",
    "\n",
    "MyJob.set_analysis(analysis)"
   ]
  },
  {
   "cell_type": "code",
   "execution_count": null,
   "id": "afcca07f",
   "metadata": {},
   "outputs": [],
   "source": [
    "MyJob.fit()"
   ]
  },
  {
   "cell_type": "code",
   "execution_count": null,
   "id": "7699e8a0",
   "metadata": {},
   "outputs": [],
   "source": [
    "fig=MyJob.analysis.plot_data_and_model(plot_individual_components=True)\n",
    "\n",
    "fig.axes[0].set_xlim(-0.02, 0.02)\n",
    "fig.axes[0].set_ylim(0, 0.07)"
   ]
  },
  {
   "cell_type": "code",
   "execution_count": null,
   "id": "99316b69",
   "metadata": {},
   "outputs": [],
   "source": [
    "pars=MyJob.analysis.get_parameters()\n",
    "pars"
   ]
  },
  {
   "cell_type": "code",
   "execution_count": null,
   "id": "0aeb592b",
   "metadata": {},
   "outputs": [],
   "source": [
    "DataJob= Job(name='Sample')\n",
    "\n",
    "Newtheory= SampleModel('Model')\n",
    "Newtheory.add_component(DeltaFunctionComponent(area=0.01e-3))\n",
    "Newtheory.add_component(LorentzianComponent(width=2e-3, area=5e-6))\n",
    "\n",
    "DataJob.set_theory(Newtheory)\n",
    "\n",
    "Newexperiment=Experiment('Experiment')\n",
    "\n",
    "Newbackground=SampleModel('Background')\n",
    "Newbackground.add_component(PolynomialComponent(coefficients=[1e-3]))\n",
    "\n",
    "Newexperiment.set_background_model(Newbackground)\n",
    "\n",
    "res=SampleModel('Resolution')\n",
    "\n",
    "theory_width=pars[2].value\n",
    "theory_area=pars[0].value\n",
    "theory_G=GaussianComponent(width=theory_width, area=theory_area)\n",
    "theory_G.area.fixed=True\n",
    "theory_G.width.fixed=True\n",
    "theory_width=pars[5].value\n",
    "theory_area=pars[3].value\n",
    "theory_L=LorentzianComponent(width=theory_width, area=theory_area)\n",
    "theory_L.area.fixed=True\n",
    "theory_L.width.fixed=True\n",
    "\n",
    "res.add_component(theory_G)\n",
    "res.add_component(theory_L)\n",
    "                  \n",
    "\n",
    "Newexperiment.set_resolution_model(res)\n",
    "\n",
    "\n",
    "newdata=Data('Data')\n",
    "newdata.append(newdata.load_example_data_1d())\n",
    "\n",
    "Newexperiment.set_data(newdata)\n",
    "\n",
    "DataJob.set_experiment(Newexperiment)\n",
    "\n",
    "\n",
    "analysis=Analysis('Analysis')\n",
    "\n",
    "DataJob.set_analysis(analysis)\n",
    "\n"
   ]
  },
  {
   "cell_type": "code",
   "execution_count": null,
   "id": "c41cd648",
   "metadata": {},
   "outputs": [],
   "source": [
    "pars2=DataJob.analysis.get_parameters()\n",
    "pars2"
   ]
  },
  {
   "cell_type": "code",
   "execution_count": null,
   "id": "804537b5",
   "metadata": {},
   "outputs": [],
   "source": [
    "pars2[3].value"
   ]
  },
  {
   "cell_type": "code",
   "execution_count": null,
   "id": "bde85434",
   "metadata": {},
   "outputs": [],
   "source": [
    "fig=DataJob.analysis.plot_data_and_model(plot_individual_components=True)\n",
    "\n",
    "# # Extract data\n",
    "# x, y, e = DataJob.analysis._experiment.extract_xye_data(DataJob.analysis._experiment._data)\n",
    "\n",
    "# # Start plot\n",
    "# fig = plt.figure(figsize=(10, 6))\n",
    "# # plt.errorbar(x, y, yerr=e, label='Data', color='black', marker='o', linestyle='None', markerfacecolor='none')\n",
    "\n",
    "# # Compute and plot fit\n",
    "# fit_y = DataJob.analysis.calculate_theory(x)\n",
    "# plt.plot(x, fit_y, label='Fit', color='red')\n",
    "\n",
    "\n",
    "\n",
    "fig.axes[0].set_xlim(-0.02, 0.02)\n",
    "fig.axes[0].set_ylim(0, 0.015)"
   ]
  },
  {
   "cell_type": "code",
   "execution_count": null,
   "id": "613db96a",
   "metadata": {},
   "outputs": [],
   "source": [
    "DataJob.fit()\n",
    "fig=DataJob.analysis.plot_data_and_model(plot_individual_components=True)\n",
    "\n",
    "fig.axes[0].set_xlim(-0.02, 0.02)\n",
    "fig.axes[0].set_ylim(0, 0.015)"
   ]
  },
  {
   "cell_type": "code",
   "execution_count": null,
   "id": "a028b7d2",
   "metadata": {},
   "outputs": [],
   "source": [
    "DataJob.analysis.get_fit_parameters()"
   ]
  },
  {
   "cell_type": "code",
   "execution_count": null,
   "id": "629b0982",
   "metadata": {},
   "outputs": [],
   "source": [
    "DataJob.analysis.get_parameters()"
   ]
  }
 ],
 "metadata": {
  "kernelspec": {
   "display_name": "EasyQENSDev",
   "language": "python",
   "name": "python3"
  },
  "language_info": {
   "codemirror_mode": {
    "name": "ipython",
    "version": 3
   },
   "file_extension": ".py",
   "mimetype": "text/x-python",
   "name": "python",
   "nbconvert_exporter": "python",
   "pygments_lexer": "ipython3",
   "version": "3.12.9"
  }
 },
 "nbformat": 4,
 "nbformat_minor": 5
}
