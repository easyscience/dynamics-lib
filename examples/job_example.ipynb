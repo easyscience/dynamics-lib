{
 "cells": [
  {
   "cell_type": "code",
   "execution_count": null,
   "id": "64deaa41",
   "metadata": {},
   "outputs": [],
   "source": [
    "%matplotlib widget\n",
    "from easydynamics.Analysis import Analysis\n",
    "\n",
    "import numpy as np\n",
    "\n",
    "from easydynamics.sample import GaussianComponent\n",
    "from easydynamics.sample import LorentzianComponent\n",
    "from easydynamics.sample import PolynomialComponent\n",
    "from easydynamics.sample import SampleModel\n",
    "\n",
    "from easydynamics.Experiment import Experiment\n",
    "\n",
    "import matplotlib.pyplot as plt\n",
    "\n",
    "\n",
    "from easydynamics.Job import Job\n",
    "from easydynamics.Experiment import Data\n"
   ]
  },
  {
   "cell_type": "code",
   "execution_count": null,
   "id": "d7e59092",
   "metadata": {},
   "outputs": [],
   "source": [
    "MyJob= Job(name='Vanadium sample')\n",
    "\n",
    "theory= SampleModel('Vanadium Model')\n",
    "theory.add_component(GaussianComponent(width=0.5e-3,area=5e-5))\n",
    "theory.add_component(LorentzianComponent(width=2e-3, area=2e-6))\n",
    "\n",
    "MyJob.set_theory(theory)\n",
    "\n",
    "experiment=Experiment('Vanadium Experiment')\n",
    "\n",
    "background=SampleModel('Vanadium Background')\n",
    "background.add_component(PolynomialComponent(coefficients=[1e-3]))\n",
    "\n",
    "experiment.set_background_model(background)\n",
    "\n",
    "experiment.set_resolution_model(None)\n",
    "\n",
    "\n",
    "data=Data('Vanadium Data')\n",
    "data.append(data.load_example_vanadium_data_1d())\n",
    "\n",
    "experiment.set_data(data)\n",
    "\n",
    "MyJob.set_experiment(experiment)\n",
    "\n",
    "\n",
    "analysis=Analysis('Vanadium Analysis')\n",
    "\n",
    "MyJob.set_analysis(analysis)"
   ]
  },
  {
   "cell_type": "code",
   "execution_count": null,
   "id": "afcca07f",
   "metadata": {},
   "outputs": [],
   "source": [
    "MyJob.fit()"
   ]
  },
  {
   "cell_type": "code",
   "execution_count": null,
   "id": "7699e8a0",
   "metadata": {},
   "outputs": [],
   "source": [
    "fig=MyJob.analysis.plot_data_and_model(plot_individual_components=True)\n",
    "\n",
    "fig.axes[0].set_xlim(-0.02, 0.02)\n",
    "fig.axes[0].set_ylim(0, 0.07)"
   ]
  },
  {
   "cell_type": "code",
   "execution_count": null,
   "id": "99316b69",
   "metadata": {},
   "outputs": [],
   "source": [
    "MyJob.analysis.get_parameters()"
   ]
  }
 ],
 "metadata": {
  "kernelspec": {
   "display_name": "EasyQENSDev",
   "language": "python",
   "name": "python3"
  },
  "language_info": {
   "codemirror_mode": {
    "name": "ipython",
    "version": 3
   },
   "file_extension": ".py",
   "mimetype": "text/x-python",
   "name": "python",
   "nbconvert_exporter": "python",
   "pygments_lexer": "ipython3",
   "version": "3.12.9"
  }
 },
 "nbformat": 4,
 "nbformat_minor": 5
}
